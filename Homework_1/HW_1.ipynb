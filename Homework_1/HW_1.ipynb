{
  "nbformat": 4,
  "nbformat_minor": 0,
  "metadata": {
    "colab": {
      "provenance": [],
      "toc_visible": true
    },
    "kernelspec": {
      "name": "python3",
      "display_name": "Python 3"
    }
  },
  "cells": [
    {
      "cell_type": "markdown",
      "metadata": {
        "id": "V5tMQXjYYa0j"
      },
      "source": [
        "# **Homework 1**\n",
        "\n",
        "Due by **Feburary 10, 2023**\n"
      ]
    },
    {
      "cell_type": "markdown",
      "source": [
        "**Question 1**: Please design a linear regression algorithm to obtain the optimal value of $w_0$ and $w_1$ for the given data in Data_HW1_1.csv by assuming the outputs and the data samples provided in the following satisfy $y=w_0+w_1\\times x +\\varepsilon$, where $\\varepsilon$ is measurement noise. \n",
        "\n",
        "*   Please provide the code, optimal values of $w_0$, $w_1$, training error, and testing error."
      ],
      "metadata": {
        "id": "XeTlSZ0YVZPQ"
      }
    },
    {
      "cell_type": "markdown",
      "metadata": {
        "id": "L09pm0p7Plf3"
      },
      "source": [
        "**Question 2**: Please design a linear regression algorithm to obtain the optimal value of $w_0$, $w_1$, $w_2$, and $w_3$ for the given data in Data_HW1_2.csv by assuming the outputs and the data samples provided in the following satisfy $y=w_0+w_1\\times x +w_2\\times x^2+w_3\\times x^3+\\varepsilon$, where $\\varepsilon$ is measurement noise. \n",
        "\n",
        "*   Please provide the code, optimal values of $w_0$, $w_1$, $w_2$, $w_3$, training error, and testing error."
      ]
    }
  ]
}